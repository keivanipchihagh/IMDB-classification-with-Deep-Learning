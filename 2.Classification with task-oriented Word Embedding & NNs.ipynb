{
  "nbformat": 4,
  "nbformat_minor": 0,
  "metadata": {
    "colab": {
      "name": "Instantiated Word_Embedding version",
      "provenance": [],
      "collapsed_sections": []
    },
    "kernelspec": {
      "name": "python3",
      "display_name": "Python 3"
    },
    "language_info": {
      "name": "python"
    }
  },
  "cells": [
    {
      "cell_type": "markdown",
      "metadata": {
        "id": "2k2hg_n1R95o"
      },
      "source": [
        "# Imdb - Movie Review Classification with IMDB (Instantiated Word Embedding)"
      ]
    },
    {
      "cell_type": "markdown",
      "metadata": {
        "id": "rUCLsLfMSMEU"
      },
      "source": [
        "## Imports"
      ]
    },
    {
      "cell_type": "code",
      "metadata": {
        "id": "50vxTULQR4Ck"
      },
      "source": [
        "from keras.datasets import imdb\n",
        "import keras\n",
        "from keras import preprocessing\n",
        "import matplotlib.pyplot as plt"
      ],
      "execution_count": 14,
      "outputs": []
    },
    {
      "cell_type": "markdown",
      "metadata": {
        "id": "Cs4vb4bZST0Z"
      },
      "source": [
        "## Aquire Data"
      ]
    },
    {
      "cell_type": "code",
      "metadata": {
        "colab": {
          "base_uri": "https://localhost:8080/"
        },
        "id": "jzwXaYSASSDP",
        "outputId": "47ab30c5-5ca7-425f-87b1-9a18bc4e3da8"
      },
      "source": [
        "max_features = 10000\n",
        "(train_data, train_labels), (test_data, test_labels) = imdb.load_data(num_words = max_features)"
      ],
      "execution_count": 3,
      "outputs": [
        {
          "output_type": "stream",
          "text": [
            "<string>:6: VisibleDeprecationWarning: Creating an ndarray from ragged nested sequences (which is a list-or-tuple of lists-or-tuples-or ndarrays with different lengths or shapes) is deprecated. If you meant to do this, you must specify 'dtype=object' when creating the ndarray\n",
            "/usr/local/lib/python3.7/dist-packages/tensorflow/python/keras/datasets/imdb.py:159: VisibleDeprecationWarning: Creating an ndarray from ragged nested sequences (which is a list-or-tuple of lists-or-tuples-or ndarrays with different lengths or shapes) is deprecated. If you meant to do this, you must specify 'dtype=object' when creating the ndarray\n",
            "  x_train, y_train = np.array(xs[:idx]), np.array(labels[:idx])\n",
            "/usr/local/lib/python3.7/dist-packages/tensorflow/python/keras/datasets/imdb.py:160: VisibleDeprecationWarning: Creating an ndarray from ragged nested sequences (which is a list-or-tuple of lists-or-tuples-or ndarrays with different lengths or shapes) is deprecated. If you meant to do this, you must specify 'dtype=object' when creating the ndarray\n",
            "  x_test, y_test = np.array(xs[idx:]), np.array(labels[idx:])\n"
          ],
          "name": "stderr"
        }
      ]
    },
    {
      "cell_type": "markdown",
      "metadata": {
        "id": "FnLZ-9TGS0Yn"
      },
      "source": [
        "## Pad Sequences"
      ]
    },
    {
      "cell_type": "code",
      "metadata": {
        "colab": {
          "base_uri": "https://localhost:8080/"
        },
        "id": "eFmFAWqbScVE",
        "outputId": "9f82f20d-8860-47c7-957b-09f467602163"
      },
      "source": [
        "max_len = 20\n",
        "\n",
        "x_train = preprocessing.sequence.pad_sequences(train_data, maxlen = max_len)\n",
        "y_train = train_labels\n",
        "\n",
        "x_test = preprocessing.sequence.pad_sequences(test_data, maxlen = max_len)\n",
        "y_test = test_labels\n",
        "\n",
        "print(x_train[0])"
      ],
      "execution_count": 9,
      "outputs": [
        {
          "output_type": "stream",
          "text": [
            "[  65   16   38 1334   88   12   16  283    5   16 4472  113  103   32\n",
            "   15   16 5345   19  178   32]\n"
          ],
          "name": "stdout"
        }
      ]
    },
    {
      "cell_type": "markdown",
      "metadata": {
        "id": "tdPMAnYLS4kx"
      },
      "source": [
        "## Create Model"
      ]
    },
    {
      "cell_type": "code",
      "metadata": {
        "colab": {
          "base_uri": "https://localhost:8080/"
        },
        "id": "ES2kSO4SSzxI",
        "outputId": "75ac18bf-6756-4b67-c236-e2e525593c24"
      },
      "source": [
        "model = keras.models.Sequential()\n",
        "\n",
        "model.add(keras.layers.Embedding(max_features, 8, input_length = max_len))\n",
        "model.add(keras.layers.Flatten())\n",
        "model.add(keras.layers.Dense(1, activation = 'sigmoid'))\n",
        "\n",
        "model.compile(optimizer = 'rmsprop', loss = 'binary_crossentropy', metrics = ['acc'])\n",
        "model.summary()"
      ],
      "execution_count": 10,
      "outputs": [
        {
          "output_type": "stream",
          "text": [
            "Model: \"sequential_3\"\n",
            "_________________________________________________________________\n",
            "Layer (type)                 Output Shape              Param #   \n",
            "=================================================================\n",
            "embedding_3 (Embedding)      (None, 20, 8)             80000     \n",
            "_________________________________________________________________\n",
            "flatten_2 (Flatten)          (None, 160)               0         \n",
            "_________________________________________________________________\n",
            "dense_2 (Dense)              (None, 1)                 161       \n",
            "=================================================================\n",
            "Total params: 80,161\n",
            "Trainable params: 80,161\n",
            "Non-trainable params: 0\n",
            "_________________________________________________________________\n"
          ],
          "name": "stdout"
        }
      ]
    },
    {
      "cell_type": "markdown",
      "metadata": {
        "id": "F_xVQ5p9TkG-"
      },
      "source": [
        "## Train the Model"
      ]
    },
    {
      "cell_type": "code",
      "metadata": {
        "colab": {
          "base_uri": "https://localhost:8080/"
        },
        "id": "BeXrKmbkTbUA",
        "outputId": "7d6f5433-cfae-4da9-b433-551e536af321"
      },
      "source": [
        "history = model.fit(x_train, y_train, epochs = 10, batch_size = 32, validation_split = 0.2)"
      ],
      "execution_count": 12,
      "outputs": [
        {
          "output_type": "stream",
          "text": [
            "Epoch 1/10\n",
            "625/625 [==============================] - 1s 2ms/step - loss: 0.2916 - acc: 0.8816 - val_loss: 0.5253 - val_acc: 0.7486\n",
            "Epoch 2/10\n",
            "625/625 [==============================] - 1s 2ms/step - loss: 0.2759 - acc: 0.8891 - val_loss: 0.5331 - val_acc: 0.7478\n",
            "Epoch 3/10\n",
            "625/625 [==============================] - 1s 2ms/step - loss: 0.2601 - acc: 0.8965 - val_loss: 0.5422 - val_acc: 0.7450\n",
            "Epoch 4/10\n",
            "625/625 [==============================] - 1s 2ms/step - loss: 0.2452 - acc: 0.9055 - val_loss: 0.5520 - val_acc: 0.7424\n",
            "Epoch 5/10\n",
            "625/625 [==============================] - 1s 2ms/step - loss: 0.2309 - acc: 0.9125 - val_loss: 0.5632 - val_acc: 0.7386\n",
            "Epoch 6/10\n",
            "625/625 [==============================] - 1s 2ms/step - loss: 0.2173 - acc: 0.9190 - val_loss: 0.5754 - val_acc: 0.7362\n",
            "Epoch 7/10\n",
            "625/625 [==============================] - 1s 2ms/step - loss: 0.1924 - acc: 0.9315 - val_loss: 0.6018 - val_acc: 0.7346\n",
            "Epoch 9/10\n",
            "625/625 [==============================] - 1s 2ms/step - loss: 0.1813 - acc: 0.9361 - val_loss: 0.6154 - val_acc: 0.7342\n",
            "Epoch 10/10\n",
            "625/625 [==============================] - 1s 2ms/step - loss: 0.1711 - acc: 0.9415 - val_loss: 0.6283 - val_acc: 0.7316\n"
          ],
          "name": "stdout"
        }
      ]
    },
    {
      "cell_type": "markdown",
      "metadata": {
        "id": "0qWTb1NvWMkh"
      },
      "source": [
        "## Plot Training & Validation loss"
      ]
    },
    {
      "cell_type": "markdown",
      "metadata": {
        "id": "yPoE1kdcWMjO"
      },
      "source": [
        ""
      ]
    },
    {
      "cell_type": "code",
      "metadata": {
        "colab": {
          "base_uri": "https://localhost:8080/",
          "height": 279
        },
        "id": "lABp6QZxVeoX",
        "outputId": "9a8fae51-5e00-4049-b839-20cfe91236d1"
      },
      "source": [
        "loss = history.history['loss']\n",
        "val_loss = len(history.history['val_loss'])\n",
        "\n",
        "acc = history.history['acc']\n",
        "val_acc = len(history.history['val_acc'])\n",
        "\n",
        "epochs = range(len(history.history['loss']))\n",
        "\n",
        "plt.plot(epochs, loss, 'b', label = 'Loss')\n",
        "plt.xlabel('Epochs')\n",
        "plt.ylabel('Loss')\n",
        "plt.legend()\n",
        "plt.show()"
      ],
      "execution_count": 29,
      "outputs": [
        {
          "output_type": "display_data",
          "data": {
            "image/png": "[encoded data removed]",
            "text/plain": [
              "<Figure size 432x288 with 1 Axes>"
            ]
          },
          "metadata": {
            "tags": [],
            "needs_background": "light"
          }
        }
      ]
    },
    {
      "cell_type": "markdown",
      "metadata": {
        "id": "DKLDIzjiWQlG"
      },
      "source": [
        "Plot Training & Validation accuracy"
      ]
    },
    {
      "cell_type": "code",
      "metadata": {
        "colab": {
          "base_uri": "https://localhost:8080/",
          "height": 279
        },
        "id": "9yrBI6AmW_2e",
        "outputId": "84b50dae-fcdb-4efa-c24c-6635201fe91e"
      },
      "source": [
        "loss = history.history['loss']\n",
        "val_loss = len(history.history['val_loss'])\n",
        "\n",
        "acc = history.history['acc']\n",
        "val_acc = len(history.history['val_acc'])\n",
        "\n",
        "epochs = range(len(history.history['loss']))\n",
        "\n",
        "plt.plot(epochs, acc, 'b', label = 'Loss')\n",
        "plt.xlabel('Epochs')\n",
        "plt.ylabel('Loss')\n",
        "plt.legend()\n",
        "plt.show()"
      ],
      "execution_count": 30,
      "outputs": [
        {
          "output_type": "display_data",
          "data": {
            "image/png": "[encoded data removed]",
            "text/plain": [
              "<Figure size 432x288 with 1 Axes>"
            ]
          },
          "metadata": {
            "tags": [],
            "needs_background": "light"
          }
        }
      ]
    }
  ]
}